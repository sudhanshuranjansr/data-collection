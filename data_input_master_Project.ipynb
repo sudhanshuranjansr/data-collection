{
 "cells": [
  {
   "cell_type": "code",
   "execution_count": 1,
   "metadata": {},
   "outputs": [],
   "source": [
    "from pandas import Series,DataFrame\n",
    "import numpy as np\n",
    "import pandas as pd\n",
    "import matplotlib.pyplot as plt\n",
    "%matplotlib inline\n",
    "import seaborn as sns\n",
    "sns.set_style(\"whitegrid\")\n",
    "import statistics"
   ]
  },
  {
   "cell_type": "code",
   "execution_count": 2,
   "metadata": {},
   "outputs": [],
   "source": [
    "i=1"
   ]
  },
  {
   "cell_type": "code",
   "execution_count": 9,
   "metadata": {},
   "outputs": [],
   "source": [
    "col=['Dance', 'Shopping', 'Fun with friends', \"Parents' advice\",\n",
    "       'Eating to survive', 'Pets', 'Darkness', 'Fear of public speaking',\n",
    "       'Economy Management', 'Healthy eating', 'Decision making',\n",
    "       'Workaholism', 'Friends versus money', 'Loneliness', 'God', 'Dreams',\n",
    "       'Number of friends', 'Socializing', 'Entertainment spending', 'height','weight',\n",
    "       'age', 'gender', 'alcohol', 'smoke', 'only_child', 'area', 'internet',\n",
    "       'music', 'movie', 'education']\n",
    "df=DataFrame(columns=col)\n",
    "#a1=pd.Series(np.arange(0,29,1),index=col)\n",
    "#a1=pd.Series(a,index=col)"
   ]
  },
  {
   "cell_type": "code",
   "execution_count": 8,
   "metadata": {},
   "outputs": [],
   "source": [
    "col1=[\"name\",\"comments\"]\n",
    "#a2=pd.Series(c,index=col1)\n",
    "df1=DataFrame(columns=col1)"
   ]
  },
  {
   "cell_type": "markdown",
   "metadata": {},
   "source": [
    "# please_enter_your_ratings_from_1_to_5_on_following_questions"
   ]
  },
  {
   "cell_type": "raw",
   "metadata": {},
   "source": [
    "['currently a primary school pupil',\n",
    " 'secondary school',\n",
    " 'masters degree',\n",
    " 'college/bachelor degree',\n",
    " 'doctorate degree',\n",
    " 'primary school']"
   ]
  },
  {
   "cell_type": "code",
   "execution_count": 4,
   "metadata": {},
   "outputs": [
    {
     "name": "stdout",
     "output_type": "stream",
     "text": [
      "plz enter your name hbh\n",
      "significant_comment(hostel,room_number,etc) kln\n",
      "your age 52\n",
      "your Height in centimeter 255\n",
      "your Weight 52\n",
      "your Gender m\n",
      "Are you the only child of the family yes\n",
      "which one you preffer Urban or Rural  u\n",
      "please enter your eduction(pick one statemenet from above)  p\n"
     ]
    }
   ],
   "source": [
    "#personal_details\n",
    "c1=input(\"plz enter your name \",)\n",
    "c2=input(\"significant_comment(hostel,room_number,etc) \",)\n",
    "b22=int(input(\"your age \",))\n",
    "b20=int(input(\"your Height in centimeter \",))\n",
    "b21=int(input(\"your Weight \",))\n",
    "b23=(input(\"your Gender \",))\n",
    "b26=(input(\"Are you the only child of the family \",))\n",
    "b27=(input(\"which one you preffer Urban or Rural  \",))\n",
    "b31=input(\"please enter your eduction(pick one statemenet from above)  \")"
   ]
  },
  {
   "cell_type": "code",
   "execution_count": 5,
   "metadata": {},
   "outputs": [
    {
     "name": "stdout",
     "output_type": "stream",
     "text": [
      "your liking for music 5\n",
      "your liking movies 5\n",
      "your level of intrest in dance 5\n",
      "your liking for shopping 5\n",
      "your level of Fun with friends 5\n",
      "How often do you listen to youe parents advice 5\n",
      "How much focused towadrs the goal of life you are  5\n",
      "your affection towars pet 5\n",
      "your level fear with darkness 5\n",
      "your level of Fear in public speaking 5\n",
      "Level of smoker you are (on a scale of 1 to 3) 5\n",
      "Level of Alcholic you are (on a scale of 1 to 3) 5\n",
      "Rate yourself on sacle of Economy managment  5\n",
      "Rate youeself on a scale of healty eating 5\n",
      "How much good you are in Decision making 5\n",
      "Level workaholic you are 5\n",
      " which one is more important Friends versus money (0 for friend 5 for money) 5\n",
      "Level of Loneliness you are in  5\n",
      "Your belief in GOD 5\n",
      "How often do you see dreams 5\n",
      " number of friends (5 for a lot and 0 for least)5\n",
      "How much do you socialize with others 5\n",
      "Level of your spending on Entertainment 5\n",
      "Your level of internet uses(on a scale of 1 to 3) 5\n"
     ]
    }
   ],
   "source": [
    "b29=int(input(\"your liking for music \"))\n",
    "b30=int(input(\"your liking  for movies \"))\n",
    "b1=int(input(\"your level of intrest in dance \",))\n",
    "b2=int(input(\"your liking for shopping \",))\n",
    "b3=int(input(\"your level of Fun with friends \",))\n",
    "b4=int(input(\"How often do you listen to youe parents advice \",))\n",
    "b5=int(input(\"How much focused towadrs the goal of life you are  \",))\n",
    "b6=int(input(\"your affection towars pet \",))\n",
    "b7=int(input(\"your level fear with darkness \",))\n",
    "b8=int(input(\"your level of Fear in public speaking \",))\n",
    "b25=int(input(\"Level of smoker you are (on a scale of 1 to 3) \",))\n",
    "b24=int(input(\"Level of Alcholic you are (on a scale of 1 to 3) \",))\n",
    "b9=int(input(\"Rate yourself on sacle of Economy managment  \",))\n",
    "b10=int(input(\"Rate youeself on a scale of healty eating \",))\n",
    "b11=int(input(\"How much good you are in Decision making \",))\n",
    "b12=int(input(\"Level workaholic you are \",))\n",
    "b13=int(input(\" which one is more important Friends versus money (0 for friend 5 for money) \",))\n",
    "b14=int(input(\"Level of Loneliness you are in  \",))\n",
    "b15=int(input(\"Your belief in GOD \",))\n",
    "b16=int(input(\"How often do you see dreams \",))\n",
    "b17=int(input(\" number of friends (5 for a lot and 0 for least)\",))\n",
    "b18=int(input(\"How much do you socialize with others \",))\n",
    "b19=int(input(\"Level of your spending on Entertainment \",))\n",
    "#b24=int(input(\"your age\",))\n",
    "#b25=int(input(\"your Height \",))\n",
    "#b26=int(input(\" your Weight\",))\n",
    "#b28=int(input(\"your Gender \",))\n",
    "#b29=int(input(\"Are you the only child of the family\",))\n",
    "#b30=int(input(\"which one you preffer Urban or Rural \",))\n",
    "b28=int(input(\"Your level of internet uses(on a scale of 1 to 3) \",))"
   ]
  },
  {
   "cell_type": "code",
   "execution_count": 20,
   "metadata": {},
   "outputs": [],
   "source": [
    "a=[b1,b2,b3,b4,b5,b6,b7,b8,b9,b10,b11,b12,b13,b14,b15,b16,b17,b18,b19,b20,b21,b22,b23,b24,b25,b26,b27,b28,b29,b30,b31]"
   ]
  },
  {
   "cell_type": "code",
   "execution_count": 21,
   "metadata": {},
   "outputs": [
    {
     "data": {
      "text/html": [
       "<div>\n",
       "<style scoped>\n",
       "    .dataframe tbody tr th:only-of-type {\n",
       "        vertical-align: middle;\n",
       "    }\n",
       "\n",
       "    .dataframe tbody tr th {\n",
       "        vertical-align: top;\n",
       "    }\n",
       "\n",
       "    .dataframe thead th {\n",
       "        text-align: right;\n",
       "    }\n",
       "</style>\n",
       "<table border=\"1\" class=\"dataframe\">\n",
       "  <thead>\n",
       "    <tr style=\"text-align: right;\">\n",
       "      <th></th>\n",
       "      <th>name</th>\n",
       "      <th>comments</th>\n",
       "    </tr>\n",
       "  </thead>\n",
       "  <tbody>\n",
       "    <tr>\n",
       "      <th>0</th>\n",
       "      <td>hbh</td>\n",
       "      <td>kln</td>\n",
       "    </tr>\n",
       "    <tr>\n",
       "      <th>1</th>\n",
       "      <td>hbh</td>\n",
       "      <td>kln</td>\n",
       "    </tr>\n",
       "    <tr>\n",
       "      <th>2</th>\n",
       "      <td>hbh</td>\n",
       "      <td>kln</td>\n",
       "    </tr>\n",
       "  </tbody>\n",
       "</table>\n",
       "</div>"
      ],
      "text/plain": [
       "  name comments\n",
       "0  hbh      kln\n",
       "1  hbh      kln\n",
       "2  hbh      kln"
      ]
     },
     "execution_count": 21,
     "metadata": {},
     "output_type": "execute_result"
    }
   ],
   "source": [
    "#col1=[\"name\",\"comments\"]\n",
    "c=[c1,c2]\n",
    "a2=pd.Series(c,index=col1)\n",
    "#df1=DataFrame(columns=col1)\n",
    "df1=df1.append(a2,ignore_index=True)\n",
    "df1"
   ]
  },
  {
   "cell_type": "code",
   "execution_count": 25,
   "metadata": {},
   "outputs": [
    {
     "data": {
      "text/plain": [
       "True"
      ]
     },
     "execution_count": 25,
     "metadata": {},
     "output_type": "execute_result"
    }
   ],
   "source": [
    "len(col)==len(a)"
   ]
  },
  {
   "cell_type": "code",
   "execution_count": 26,
   "metadata": {},
   "outputs": [
    {
     "data": {
      "text/html": [
       "<div>\n",
       "<style scoped>\n",
       "    .dataframe tbody tr th:only-of-type {\n",
       "        vertical-align: middle;\n",
       "    }\n",
       "\n",
       "    .dataframe tbody tr th {\n",
       "        vertical-align: top;\n",
       "    }\n",
       "\n",
       "    .dataframe thead th {\n",
       "        text-align: right;\n",
       "    }\n",
       "</style>\n",
       "<table border=\"1\" class=\"dataframe\">\n",
       "  <thead>\n",
       "    <tr style=\"text-align: right;\">\n",
       "      <th></th>\n",
       "      <th>Dance</th>\n",
       "      <th>Shopping</th>\n",
       "      <th>Fun with friends</th>\n",
       "      <th>Parents' advice</th>\n",
       "      <th>Eating to survive</th>\n",
       "      <th>Pets</th>\n",
       "      <th>Darkness</th>\n",
       "      <th>Fear of public speaking</th>\n",
       "      <th>Economy Management</th>\n",
       "      <th>Healthy eating</th>\n",
       "      <th>...</th>\n",
       "      <th>age</th>\n",
       "      <th>gender</th>\n",
       "      <th>alcohol</th>\n",
       "      <th>smoke</th>\n",
       "      <th>only_child</th>\n",
       "      <th>area</th>\n",
       "      <th>internet</th>\n",
       "      <th>music</th>\n",
       "      <th>movie</th>\n",
       "      <th>education</th>\n",
       "    </tr>\n",
       "  </thead>\n",
       "  <tbody>\n",
       "    <tr>\n",
       "      <th>0</th>\n",
       "      <td>5</td>\n",
       "      <td>5</td>\n",
       "      <td>5</td>\n",
       "      <td>5</td>\n",
       "      <td>5</td>\n",
       "      <td>5</td>\n",
       "      <td>5</td>\n",
       "      <td>5</td>\n",
       "      <td>5</td>\n",
       "      <td>5</td>\n",
       "      <td>...</td>\n",
       "      <td>52</td>\n",
       "      <td>m</td>\n",
       "      <td>5</td>\n",
       "      <td>5</td>\n",
       "      <td>yes</td>\n",
       "      <td>u</td>\n",
       "      <td>5</td>\n",
       "      <td>5</td>\n",
       "      <td>5</td>\n",
       "      <td>p</td>\n",
       "    </tr>\n",
       "  </tbody>\n",
       "</table>\n",
       "<p>1 rows × 31 columns</p>\n",
       "</div>"
      ],
      "text/plain": [
       "  Dance Shopping Fun with friends Parents' advice Eating to survive Pets  \\\n",
       "0     5        5                5               5                 5    5   \n",
       "\n",
       "  Darkness Fear of public speaking Economy Management Healthy eating  \\\n",
       "0        5                       5                  5              5   \n",
       "\n",
       "     ...    age gender alcohol smoke only_child area internet music movie  \\\n",
       "0    ...     52      m       5     5        yes    u        5     5     5   \n",
       "\n",
       "  education  \n",
       "0         p  \n",
       "\n",
       "[1 rows x 31 columns]"
      ]
     },
     "execution_count": 26,
     "metadata": {},
     "output_type": "execute_result"
    }
   ],
   "source": [
    "#df=DataFrame(columns=col)\n",
    "#a1=pd.Series(np.arange(0,29,1),index=col)\n",
    "a1=pd.Series(a,index=col)\n",
    "df=df.append(a1,ignore_index=True)\n",
    "df"
   ]
  },
  {
   "cell_type": "code",
   "execution_count": 29,
   "metadata": {},
   "outputs": [],
   "source": [
    "df_merge=df\n",
    "df_merge[\"name\"]=c1\n",
    "df_merge[\"comments\"]=c2"
   ]
  },
  {
   "cell_type": "code",
   "execution_count": 30,
   "metadata": {},
   "outputs": [
    {
     "data": {
      "text/plain": [
       "3"
      ]
     },
     "execution_count": 30,
     "metadata": {},
     "output_type": "execute_result"
    }
   ],
   "source": [
    "i=i+1\n",
    "i"
   ]
  },
  {
   "cell_type": "code",
   "execution_count": 28,
   "metadata": {},
   "outputs": [],
   "source": [
    "#df.to_csv(\"mp_data.csv\")"
   ]
  },
  {
   "cell_type": "code",
   "execution_count": null,
   "metadata": {},
   "outputs": [],
   "source": [
    "#df_merge.to_csv(\"mp_merge.csv\")"
   ]
  },
  {
   "cell_type": "code",
   "execution_count": null,
   "metadata": {},
   "outputs": [],
   "source": []
  },
  {
   "cell_type": "code",
   "execution_count": null,
   "metadata": {},
   "outputs": [],
   "source": []
  },
  {
   "cell_type": "code",
   "execution_count": null,
   "metadata": {},
   "outputs": [],
   "source": []
  },
  {
   "cell_type": "code",
   "execution_count": null,
   "metadata": {},
   "outputs": [],
   "source": []
  },
  {
   "cell_type": "code",
   "execution_count": null,
   "metadata": {},
   "outputs": [],
   "source": []
  },
  {
   "cell_type": "code",
   "execution_count": null,
   "metadata": {},
   "outputs": [],
   "source": []
  },
  {
   "cell_type": "code",
   "execution_count": null,
   "metadata": {},
   "outputs": [],
   "source": []
  },
  {
   "cell_type": "code",
   "execution_count": null,
   "metadata": {},
   "outputs": [],
   "source": []
  },
  {
   "cell_type": "code",
   "execution_count": null,
   "metadata": {},
   "outputs": [],
   "source": []
  },
  {
   "cell_type": "code",
   "execution_count": null,
   "metadata": {},
   "outputs": [],
   "source": []
  },
  {
   "cell_type": "code",
   "execution_count": null,
   "metadata": {},
   "outputs": [],
   "source": []
  },
  {
   "cell_type": "code",
   "execution_count": null,
   "metadata": {},
   "outputs": [],
   "source": []
  }
 ],
 "metadata": {
  "kernelspec": {
   "display_name": "Python 3",
   "language": "python",
   "name": "python3"
  },
  "language_info": {
   "codemirror_mode": {
    "name": "ipython",
    "version": 3
   },
   "file_extension": ".py",
   "mimetype": "text/x-python",
   "name": "python",
   "nbconvert_exporter": "python",
   "pygments_lexer": "ipython3",
   "version": "3.7.1"
  }
 },
 "nbformat": 4,
 "nbformat_minor": 2
}
